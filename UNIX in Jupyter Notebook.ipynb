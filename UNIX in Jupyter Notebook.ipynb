{
 "cells": [
  {
   "cell_type": "markdown",
   "metadata": {},
   "source": [
    "# Why Jupyter Notebook is so useful\n",
    "\n",
    "**Jupyter Notebook** allows us to save code, images and text in a single document with .ipynb extension. This is really useful when you seek to convey your results to your clients, since you can split up your code in different cells and explain the steps that you have been following along your analyze. Moreover, you can take advance from the several graphs that python provides you to support your results.\n",
    "\n",
    "Thus, **Jupyter Notebook** help us to become in an easily readable way even the most complex code that we developed."
   ]
  },
  {
   "cell_type": "markdown",
   "metadata": {},
   "source": [
    "### UNIX and Jupyter Notebook\n",
    "\n",
    "Another great advantage is the facilities that **Jupyter Notebook** provide us to work with UNIX commands.\n",
    "Is as easily as insert **!** at the beginning of your UNIX command line.\n",
    "\n",
    "Although to work properly with UNIX Commands, we should be running **Jupyter Notebook** in Linux or MacOS."
   ]
  },
  {
   "cell_type": "markdown",
   "metadata": {},
   "source": [
    "### In the present example...\n",
    "\n",
    "I will perform a simple analysis of the English dictionary. I'll be working with the English words included in it using a .txt file that you can find in the next link:\n",
    "     https://github.com/dwyl/english-words/blob/master/words.txt\n",
    "\n",
    "To analyse the distribution of these words considering their initials I'll follow the next steps:\n",
    "* Import the txt file.\n",
    "* Explore the txt file.\n",
    "* Clean the sample of words.\n",
    "* Count the number of words for each of the letters.\n",
    "* Display a graph where visualize the distribution of the number of words per letters."
   ]
  },
  {
   "cell_type": "markdown",
   "metadata": {},
   "source": [
    "#### Importing the txt file."
   ]
  },
  {
   "cell_type": "code",
   "execution_count": 1,
   "metadata": {},
   "outputs": [],
   "source": [
    "words = './words.txt'"
   ]
  },
  {
   "cell_type": "markdown",
   "metadata": {},
   "source": [
    "#### Exploring the txt file.\n",
    "I found 89 elements inside the txt file that represent numerical terms rather than words."
   ]
  },
  {
   "cell_type": "code",
   "execution_count": 2,
   "metadata": {},
   "outputs": [
    {
     "name": "stdout",
     "output_type": "stream",
     "text": [
      "Total of words in the file: ['466551 ./words.txt']\n"
     ]
    }
   ],
   "source": [
    "total= !wc -l $words\n",
    "print(\"Total of words in the file: \" + str(total))"
   ]
  },
  {
   "cell_type": "code",
   "execution_count": 3,
   "metadata": {
    "scrolled": true
   },
   "outputs": [
    {
     "name": "stdout",
     "output_type": "stream",
     "text": [
      "Total of numerical elements: ['89']\n",
      "\n",
      "2\r\n",
      "1080\r\n",
      "10-point\r\n",
      "10th\r\n",
      "11-point\r\n",
      "12-point\r\n",
      "16-point\r\n",
      "18-point\r\n",
      "1st\r\n",
      "2,4,5-t\r\n",
      "2,4-d\r\n",
      "20-point\r\n",
      "2D\r\n",
      "2nd\r\n",
      "30-30\r\n",
      "3D\r\n",
      "3-D\r\n",
      "3M\r\n",
      "3rd\r\n",
      "48-point\r\n",
      "4-D\r\n",
      "4GL\r\n",
      "4H\r\n",
      "4th\r\n",
      "5-point\r\n",
      "5-T\r\n",
      "5th\r\n",
      "6-point\r\n",
      "6th\r\n",
      "7-point\r\n",
      "7th\r\n",
      "8-point\r\n",
      "8th\r\n",
      "9-point\r\n",
      "9th\r\n",
      "A1\r\n",
      "A-1\r\n",
      "A4\r\n",
      "A5\r\n",
      "ASN1\r\n",
      "ATP2\r\n",
      "B911\r\n",
      "C3\r\n",
      "catch-22\r\n",
      "D1-C\r\n",
      "D2-D\r\n",
      "E911\r\n",
      "FR-1\r\n",
      "FT1\r\n",
      "IMAP3\r\n",
      "K2\r\n",
      "K9\r\n",
      "L1\r\n",
      "L2\r\n",
      "L3\r\n",
      "L4\r\n",
      "L5\r\n",
      "LN2\r\n",
      "LSD-25\r\n",
      "M-1\r\n",
      "M-14\r\n",
      "M-16\r\n",
      "MI5\r\n",
      "MI6\r\n",
      "O2\r\n",
      "OS2\r\n",
      "P2\r\n",
      "P3\r\n",
      "P4\r\n",
      "PL/1\r\n",
      "PL1\r\n",
      "RS232\r\n",
      "SS-10\r\n",
      "SS-11\r\n",
      "SS-9\r\n",
      "SVR4\r\n",
      "T1\r\n",
      "T1FE\r\n",
      "T1OS\r\n",
      "T3\r\n",
      "TP0\r\n",
      "TP4\r\n",
      "V-1\r\n",
      "V-2\r\n",
      "V6\r\n",
      "V8\r\n",
      "WW2\r\n",
      "X25\r\n",
      "XPG2\r\n"
     ]
    }
   ],
   "source": [
    "num= !grep [0-9]  $words | wc -l\n",
    "print(\"Total of numerical elements: \" + str(num) + \"\\n\")\n",
    "!grep [0-9]  $words | cat"
   ]
  },
  {
   "cell_type": "markdown",
   "metadata": {},
   "source": [
    "#### Cleaning the sample of numerical elements."
   ]
  },
  {
   "cell_type": "code",
   "execution_count": 4,
   "metadata": {},
   "outputs": [
    {
     "name": "stdout",
     "output_type": "stream",
     "text": [
      "466462\r\n"
     ]
    }
   ],
   "source": [
    "!grep -v [0-9]  $words | wc -l"
   ]
  },
  {
   "cell_type": "markdown",
   "metadata": {},
   "source": [
    "#### Counting the number of words for each of the letters."
   ]
  },
  {
   "cell_type": "code",
   "execution_count": 5,
   "metadata": {},
   "outputs": [],
   "source": [
    "a= !grep -v [0-9]  $words | grep -i \"^a\" | wc -l\n",
    "b= !grep -v [0-9]  $words | grep -i \"^b\" | wc -l\n",
    "c= !grep -v [0-9]  $words | grep -i \"^c\" | wc -l\n",
    "d= !grep -v [0-9]  $words | grep -i \"^d\" | wc -l\n",
    "e= !grep -v [0-9]  $words | grep -i \"^e\" | wc -l\n",
    "f= !grep -v [0-9]  $words | grep -i \"^f\" | wc -l\n",
    "g= !grep -v [0-9]  $words | grep -i \"^g\" | wc -l\n",
    "h= !grep -v [0-9]  $words | grep -i \"^h\" | wc -l\n",
    "i= !grep -v [0-9]  $words | grep -i \"^i\" | wc -l\n",
    "j= !grep -v [0-9]  $words | grep -i \"^j\" | wc -l\n",
    "k= !grep -v [0-9]  $words | grep -i \"^k\" | wc -l\n",
    "l= !grep -v [0-9]  $words | grep -i \"^l\" | wc -l\n",
    "m= !grep -v [0-9]  $words | grep -i \"^m\" | wc -l\n",
    "n= !grep -v [0-9]  $words | grep -i \"^n\" | wc -l\n",
    "o= !grep -v [0-9]  $words | grep -i \"^o\" | wc -l\n",
    "p= !grep -v [0-9]  $words | grep -i \"^p\" | wc -l\n",
    "q= !grep -v [0-9]  $words | grep -i \"^q\" | wc -l\n",
    "r= !grep -v [0-9]  $words | grep -i \"^r\" | wc -l\n",
    "s= !grep -v [0-9]  $words | grep -i \"^s\" | wc -l\n",
    "t= !grep -v [0-9]  $words | grep -i \"^t\" | wc -l\n",
    "u= !grep -v [0-9]  $words | grep -i \"^u\" | wc -l\n",
    "v= !grep -v [0-9]  $words | grep -i \"^v\" | wc -l\n",
    "w= !grep -v [0-9]  $words | grep -i \"^w\" | wc -l\n",
    "x= !grep -v [0-9]  $words | grep -i \"^x\" | wc -l\n",
    "y= !grep -v [0-9]  $words | grep -i \"^y\" | wc -l\n",
    "z= !grep -v [0-9]  $words | grep -i \"^z\" | wc -l"
   ]
  },
  {
   "cell_type": "code",
   "execution_count": 6,
   "metadata": {
    "scrolled": false
   },
   "outputs": [],
   "source": [
    "frequency = a + b + c + d + e + f + g + h + i + j + k + l + m + n + o + p + q + r + s + t + u + v + w + x + y + z\n",
    "letters= [\"a\", \"b\", \"c\", \"d\", \"e\", \"f\", \"g\", \"h\", \"i\", \"j\", \"k\",\"l\", \"m\", \"n\", \"o\", \"p\", \"q\", \"r\", \"s\", \"t\", \"u\", \"v\", \"w\", \"x\", \"y\", \"z\"]"
   ]
  },
  {
   "cell_type": "markdown",
   "metadata": {},
   "source": [
    "#### Displaying a graph where visualize the distribution of the number of words per letters."
   ]
  },
  {
   "cell_type": "code",
   "execution_count": 7,
   "metadata": {},
   "outputs": [],
   "source": [
    "import matplotlib.pyplot as plt\n",
    "import pandas as pd"
   ]
  },
  {
   "cell_type": "code",
   "execution_count": 8,
   "metadata": {},
   "outputs": [],
   "source": [
    "frequency = list(map(int, frequency))"
   ]
  },
  {
   "cell_type": "code",
   "execution_count": 9,
   "metadata": {},
   "outputs": [],
   "source": [
    "data = pd.Series(frequency)"
   ]
  },
  {
   "cell_type": "code",
   "execution_count": 10,
   "metadata": {},
   "outputs": [
    {
     "data": {
      "text/plain": [
       "Text(0, 0.5, 'n Words')"
      ]
     },
     "execution_count": 10,
     "metadata": {},
     "output_type": "execute_result"
    },
    {
     "data": {
      "image/png": "[encoded data removed]",
      "text/plain": [
       "<Figure size 1080x720 with 1 Axes>"
      ]
     },
     "metadata": {
      "needs_background": "light"
     },
     "output_type": "display_data"
    }
   ],
   "source": [
    "fig, ax = plt.subplots()\n",
    "data.plot.bar(figsize=(15,10))\n",
    "ax.set_xticklabels(letters, rotation=0, rotation_mode=\"anchor\", fontsize=15)\n",
    "ax.set_xlabel('Letters', fontsize=22)\n",
    "ax.set_ylabel('n Words', fontsize=22)"
   ]
  },
  {
   "cell_type": "markdown",
   "metadata": {},
   "source": [
    "## Results and conclusions\n",
    "\n",
    "Now we can see how some initials present more frequency of words than others.\n",
    "\n",
    "For instance, we can say that letters such as c, p or s are the initials for a lot of words in the English dictionary. On the other hand, letters such as j, q or x do not represent the initials for too many English words.\n",
    "\n",
    "Although this analysis was developed to show you the strengths of **Jupyter Notebook**, I think that this analysis might be useful to perform a linguistic analyze where see how different languages have a different distribution of the amount of words per initial.\n",
    "\n",
    "Did you find another usability for this analysis?"
   ]
  }
 ],
 "metadata": {
  "kernelspec": {
   "display_name": "Python 3",
   "language": "python",
   "name": "python3"
  },
  "language_info": {
   "codemirror_mode": {
    "name": "ipython",
    "version": 3
   },
   "file_extension": ".py",
   "mimetype": "text/x-python",
   "name": "python",
   "nbconvert_exporter": "python",
   "pygments_lexer": "ipython3",
   "version": "3.7.3"
  }
 },
 "nbformat": 4,
 "nbformat_minor": 2
}
